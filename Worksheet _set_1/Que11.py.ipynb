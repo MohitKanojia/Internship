{
 "cells": [
  {
   "cell_type": "markdown",
   "id": "e1884a09",
   "metadata": {},
   "source": [
    "11. Write a python program to find the factorial of a number. "
   ]
  },
  {
   "cell_type": "code",
   "execution_count": 1,
   "id": "f370e446",
   "metadata": {},
   "outputs": [
    {
     "name": "stdout",
     "output_type": "stream",
     "text": [
      "Enter number5\n",
      "Factorial= 120\n"
     ]
    }
   ],
   "source": [
    "i=int(input(\"Enter number\"))\n",
    "fac=1\n",
    "while i>0:\n",
    "    fac=fac*i\n",
    "    i=i-1\n",
    "print(\"Factorial=\",fac)"
   ]
  }
 ],
 "metadata": {
  "kernelspec": {
   "display_name": "Python 3 (ipykernel)",
   "language": "python",
   "name": "python3"
  },
  "language_info": {
   "codemirror_mode": {
    "name": "ipython",
    "version": 3
   },
   "file_extension": ".py",
   "mimetype": "text/x-python",
   "name": "python",
   "nbconvert_exporter": "python",
   "pygments_lexer": "ipython3",
   "version": "3.9.7"
  }
 },
 "nbformat": 4,
 "nbformat_minor": 5
}
