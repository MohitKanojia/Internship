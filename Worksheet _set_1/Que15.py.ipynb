{
 "cells": [
  {
   "cell_type": "markdown",
   "id": "c110938f",
   "metadata": {},
   "source": [
    "15. Write a python program to print the frequency of each of the characters present in a given string"
   ]
  },
  {
   "cell_type": "code",
   "execution_count": 4,
   "id": "c95e3c91",
   "metadata": {},
   "outputs": [
    {
     "name": "stdout",
     "output_type": "stream",
     "text": [
      "Enter the stringMHJMKKNHY\n",
      "{'M': 1}\n",
      "{'M': 1, 'H': 1}\n",
      "{'M': 1, 'H': 1, 'J': 1}\n",
      "{'M': 2, 'H': 1, 'J': 1, 'K': 1}\n",
      "{'M': 2, 'H': 1, 'J': 1, 'K': 2, 'N': 1}\n",
      "{'M': 2, 'H': 2, 'J': 1, 'K': 2, 'N': 1, 'Y': 1}\n"
     ]
    }
   ],
   "source": [
    "str1 = input (\"Enter the string\")\n",
    "d1 = dict()\n",
    "for c in str1:\n",
    "    if c in d1:\n",
    "        d1[c] = d1[c] + 1\n",
    "    else:\n",
    "        d1[c] = 1\n",
    "        print(d1)"
   ]
  }
 ],
 "metadata": {
  "kernelspec": {
   "display_name": "Python 3 (ipykernel)",
   "language": "python",
   "name": "python3"
  },
  "language_info": {
   "codemirror_mode": {
    "name": "ipython",
    "version": 3
   },
   "file_extension": ".py",
   "mimetype": "text/x-python",
   "name": "python",
   "nbconvert_exporter": "python",
   "pygments_lexer": "ipython3",
   "version": "3.9.7"
  }
 },
 "nbformat": 4,
 "nbformat_minor": 5
}
