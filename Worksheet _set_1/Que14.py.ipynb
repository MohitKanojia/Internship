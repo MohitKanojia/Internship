{
 "cells": [
  {
   "cell_type": "markdown",
   "id": "d4b5eea0",
   "metadata": {},
   "source": [
    "14. Write a Python program to get the third side of right-angled triangle from two given sides."
   ]
  },
  {
   "cell_type": "code",
   "execution_count": 2,
   "id": "06ab2f8c",
   "metadata": {},
   "outputs": [
    {
     "name": "stdout",
     "output_type": "stream",
     "text": [
      "Enter the length\n",
      "a:5\n",
      "b:8\n",
      "the length of the hypotenuse is  9.433981132056603\n"
     ]
    }
   ],
   "source": [
    "from math import sqrt\n",
    "print(\"Enter the length\")\n",
    "\n",
    "a=float(input(\"a:\"))\n",
    "b=float(input(\"b:\"))\n",
    "\n",
    "c=sqrt(a**2 + b**2)\n",
    "print(\"the length of the hypotenuse is \", c)"
   ]
  }
 ],
 "metadata": {
  "kernelspec": {
   "display_name": "Python 3 (ipykernel)",
   "language": "python",
   "name": "python3"
  },
  "language_info": {
   "codemirror_mode": {
    "name": "ipython",
    "version": 3
   },
   "file_extension": ".py",
   "mimetype": "text/x-python",
   "name": "python",
   "nbconvert_exporter": "python",
   "pygments_lexer": "ipython3",
   "version": "3.9.7"
  }
 },
 "nbformat": 4,
 "nbformat_minor": 5
}
