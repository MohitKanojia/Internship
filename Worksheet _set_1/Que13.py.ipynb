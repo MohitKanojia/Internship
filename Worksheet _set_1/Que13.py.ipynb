{
 "cells": [
  {
   "cell_type": "markdown",
   "id": "78b684c4",
   "metadata": {},
   "source": [
    "13. Write a python program to check whether a given string is palindrome or not. "
   ]
  },
  {
   "cell_type": "code",
   "execution_count": 4,
   "id": "6ba7e477",
   "metadata": {},
   "outputs": [
    {
     "name": "stdout",
     "output_type": "stream",
     "text": [
      "Enter String:mohit\n",
      "Not Palindrone\n"
     ]
    }
   ],
   "source": [
    "a=input(\"Enter String:\")\n",
    "b=a[-1::-5]\n",
    "if(a==b):\n",
    "    print(\"Palindrome\")\n",
    "else:\n",
    "    print(\"Not Palindrone\")"
   ]
  }
 ],
 "metadata": {
  "kernelspec": {
   "display_name": "Python 3 (ipykernel)",
   "language": "python",
   "name": "python3"
  },
  "language_info": {
   "codemirror_mode": {
    "name": "ipython",
    "version": 3
   },
   "file_extension": ".py",
   "mimetype": "text/x-python",
   "name": "python",
   "nbconvert_exporter": "python",
   "pygments_lexer": "ipython3",
   "version": "3.9.7"
  }
 },
 "nbformat": 4,
 "nbformat_minor": 5
}
